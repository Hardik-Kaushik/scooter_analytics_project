{
 "cells": [
  {
   "cell_type": "code",
   "execution_count": 1,
   "id": "bbdd5125",
   "metadata": {},
   "outputs": [
    {
     "name": "stdout",
     "output_type": "stream",
     "text": [
      "Duration Model RMSE: 604.84 seconds\n",
      "Duration model and columns saved successfully.\n"
     ]
    }
   ],
   "source": [
    "# In 03_duration_modeling.ipynb\n",
    "import pandas as pd\n",
    "import numpy as np\n",
    "from sklearn.model_selection import train_test_split\n",
    "from sklearn.ensemble import RandomForestRegressor\n",
    "from sklearn.metrics import mean_squared_error\n",
    "import joblib\n",
    "import pickle\n",
    "\n",
    "# --- Haversine Formula for Distance ---\n",
    "def haversine(lat1, lon1, lat2, lon2):\n",
    "    R = 6371  # Earth radius in kilometers\n",
    "    dlat = np.radians(lat2 - lat1)\n",
    "    dlon = np.radians(lon2 - lon1)\n",
    "    a = np.sin(dlat / 2)**2 + np.cos(np.radians(lat1)) * np.cos(np.radians(lat2)) * np.sin(dlon / 2)**2\n",
    "    c = 2 * np.arctan2(np.sqrt(a), np.sqrt(1 - a))\n",
    "    distance = R * c\n",
    "    return distance\n",
    "\n",
    "# --- Load and Prep Data ---\n",
    "df = pd.read_csv('../data/Divvy_Trips_2022_Q1.csv') # Or your chosen file\n",
    "df.dropna(subset=['start_station_name', 'end_station_name', 'start_lat', 'start_lng', 'end_lat', 'end_lng'], inplace=True)\n",
    "df['started_at'] = pd.to_datetime(df['started_at'])\n",
    "df['ended_at'] = pd.to_datetime(df['ended_at'])\n",
    "df['duration_sec'] = (df['ended_at'] - df['started_at']).dt.total_seconds()\n",
    "df = df[(df['duration_sec'] > 60) & (df['duration_sec'] < 10800)]\n",
    "\n",
    "# --- Feature Engineering ---\n",
    "df['distance_km'] = haversine(df['start_lat'], df['start_lng'], df['end_lat'], df['end_lng'])\n",
    "df['hour_of_day'] = df['started_at'].dt.hour\n",
    "df['day_of_week_num'] = df['started_at'].dt.dayofweek\n",
    "\n",
    "# --- Model Training ---\n",
    "features = ['distance_km', 'hour_of_day', 'day_of_week_num', 'start_station_name', 'end_station_name']\n",
    "target = 'duration_sec'\n",
    "\n",
    "model_df = df[features + [target]].copy()\n",
    "model_df = pd.get_dummies(model_df, columns=['start_station_name', 'end_station_name'])\n",
    "\n",
    "X = model_df.drop(target, axis=1)\n",
    "y = model_df[target]\n",
    "\n",
    "X_train, X_test, y_train, y_test = train_test_split(X, y, test_size=0.2, random_state=42)\n",
    "\n",
    "duration_model = RandomForestRegressor(n_estimators=50, random_state=42, n_jobs=-1, max_depth=10)\n",
    "duration_model.fit(X_train, y_train)\n",
    "\n",
    "# Evaluate (RMSE in seconds)\n",
    "preds = duration_model.predict(X_test)\n",
    "rmse = np.sqrt(mean_squared_error(y_test, preds))\n",
    "print(f\"Duration Model RMSE: {rmse:.2f} seconds\")\n",
    "\n",
    "# --- Save Assets ---\n",
    "joblib.dump(duration_model, '../output/duration_model.pkl')\n",
    "with open('../output/duration_model_columns.pkl', 'wb') as f:\n",
    "    pickle.dump(list(X.columns), f)\n",
    "print(\"Duration model and columns saved successfully.\")"
   ]
  }
 ],
 "metadata": {
  "kernelspec": {
   "display_name": "Python 3",
   "language": "python",
   "name": "python3"
  },
  "language_info": {
   "codemirror_mode": {
    "name": "ipython",
    "version": 3
   },
   "file_extension": ".py",
   "mimetype": "text/x-python",
   "name": "python",
   "nbconvert_exporter": "python",
   "pygments_lexer": "ipython3",
   "version": "3.10.8"
  }
 },
 "nbformat": 4,
 "nbformat_minor": 5
}
